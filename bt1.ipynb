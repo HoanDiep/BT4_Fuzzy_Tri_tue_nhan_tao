{
  "nbformat": 4,
  "nbformat_minor": 0,
  "metadata": {
    "colab": {
      "provenance": [],
      "authorship_tag": "ABX9TyNpOAb1pXAaIJxFRXnlAk9D",
      "include_colab_link": true
    },
    "kernelspec": {
      "name": "python3",
      "display_name": "Python 3"
    },
    "language_info": {
      "name": "python"
    }
  },
  "cells": [
    {
      "cell_type": "markdown",
      "metadata": {
        "id": "view-in-github",
        "colab_type": "text"
      },
      "source": [
        "<a href=\"https://colab.research.google.com/github/HoanDiep/BT4_Fuzzy_Tri_tue_nhan_tao/blob/main/bt1.ipynb\" target=\"_parent\"><img src=\"https://colab.research.google.com/assets/colab-badge.svg\" alt=\"Open In Colab\"/></a>"
      ]
    },
    {
      "cell_type": "code",
      "execution_count": 2,
      "metadata": {
        "colab": {
          "base_uri": "https://localhost:8080/"
        },
        "id": "SDiOA_80Crgy",
        "outputId": "a8c850b0-8165-4a07-ca3a-c9689b727d42"
      },
      "outputs": [
        {
          "output_type": "stream",
          "name": "stdout",
          "text": [
            "Looking in indexes: https://pypi.org/simple, https://us-python.pkg.dev/colab-wheels/public/simple/\n",
            "Collecting scikit-fuzzy\n",
            "  Downloading scikit-fuzzy-0.4.2.tar.gz (993 kB)\n",
            "\u001b[2K     \u001b[90m━━━━━━━━━━━━━━━━━━━━━━━━━━━━━━━━━━━━━━\u001b[0m \u001b[32m994.0/994.0 KB\u001b[0m \u001b[31m14.5 MB/s\u001b[0m eta \u001b[36m0:00:00\u001b[0m\n",
            "\u001b[?25h  Preparing metadata (setup.py) ... \u001b[?25l\u001b[?25hdone\n",
            "Requirement already satisfied: numpy>=1.6.0 in /usr/local/lib/python3.8/dist-packages (from scikit-fuzzy) (1.22.4)\n",
            "Requirement already satisfied: scipy>=0.9.0 in /usr/local/lib/python3.8/dist-packages (from scikit-fuzzy) (1.10.1)\n",
            "Requirement already satisfied: networkx>=1.9.0 in /usr/local/lib/python3.8/dist-packages (from scikit-fuzzy) (3.0)\n",
            "Building wheels for collected packages: scikit-fuzzy\n",
            "  Building wheel for scikit-fuzzy (setup.py) ... \u001b[?25l\u001b[?25hdone\n",
            "  Created wheel for scikit-fuzzy: filename=scikit_fuzzy-0.4.2-py3-none-any.whl size=894088 sha256=05bd86f7ba3a3c2c290485f532a36ce02c3052e8bae9305ab26ebb0a9e51c3d9\n",
            "  Stored in directory: /root/.cache/pip/wheels/2c/04/80/7eefb1a2de7d36aefd06432fab2a1486caf0a0596a7067391a\n",
            "Successfully built scikit-fuzzy\n",
            "Installing collected packages: scikit-fuzzy\n",
            "Successfully installed scikit-fuzzy-0.4.2\n"
          ]
        }
      ],
      "source": [
        "pip install scikit-fuzzy\n"
      ]
    },
    {
      "cell_type": "code",
      "source": [
        "import numpy as np\n",
        "import skfuzzy as fuzz\n",
        "from skfuzzy import control as ctrl \n",
        "\n",
        "fever = ctrl.Antecedent(np.arange(1,11,1),'fever')\n",
        "headache= ctrl.Antecedent(np.arange(1,11,1),'headache')\n",
        "nausea = ctrl.Antecedent(np.arange(1,11,1),'nausea')\n",
        "vomiting= ctrl.Antecedent(np.arange(1,11,1),'vomiting')\n",
        "jaundice = ctrl.Antecedent(np.arange(1,11,1),'jaundice')\n",
        "enlargedLiver= ctrl.Antecedent(np.arange(1,11,1),'enlargedLiver')\n",
        "jointPain = ctrl.Antecedent(np.arange(1,11,1),'jointPain')\n",
        "bodyWeakness= ctrl.Antecedent(np.arange(1,11,1),'bodyWeakness')\n",
        "dizziness = ctrl.Antecedent(np.arange(1,11,1),'dizziness')\n",
        "lossOfAppetite= ctrl.Antecedent(np.arange(1,11,1),'lossOfAppetite')\n",
        "MP= ctrl.Antecedent(np.arange(1,11,1),'MP')\n",
        "\n",
        "conclusion= ctrl.Consequent(np.arange(1,11,1),'conclusion')\n",
        "\n",
        "\n",
        "fever['mild']=fuzz.trimf(fever.universe,[1,1,3])\n",
        "fever['moderate']=fuzz.trimf(fever.universe,[3,5,6])\n",
        "fever['severe']=fuzz.trimf(fever.universe,[6,8,8])\n",
        "fever['very severe']=fuzz.trimf(fever.universe,[8,10,10])\n",
        "\n",
        "headache['mild']=fuzz.trimf(headache.universe,[1,1,3])\n",
        "headache['moderate']=fuzz.trimf(headache.universe,[3,5,6])\n",
        "headache['severe']=fuzz.trimf(headache.universe,[6,8,8])\n",
        "headache['very severe']=fuzz.trimf(headache.universe,[8,10,10])\n",
        "\n",
        "nausea['mild']=fuzz.trimf(nausea.universe,[1,1,3])\n",
        "nausea['moderate']=fuzz.trimf(nausea.universe,[3,5,6])\n",
        "nausea['severe']=fuzz.trimf(nausea.universe,[6,8,8])\n",
        "nausea['very severe']=fuzz.trimf(nausea.universe,[8,10,10])\n",
        "\n",
        "vomiting['mild']=fuzz.trimf(vomiting.universe,[1,1,3])\n",
        "vomiting['moderate']=fuzz.trimf(vomiting.universe,[3,5,6])\n",
        "vomiting['severe']=fuzz.trimf(vomiting.universe,[6,8,8])\n",
        "vomiting['very severe']=fuzz.trimf(vomiting.universe,[8,10,10])\n",
        "\n",
        "jaundice['mild']=fuzz.trimf(jaundice.universe,[1,1,3])\n",
        "jaundice['moderate']=fuzz.trimf(jaundice.universe,[3,5,6])\n",
        "jaundice['severe']=fuzz.trimf(jaundice.universe,[6,8,8])\n",
        "jaundice['very severe']=fuzz.trimf(jaundice.universe,[8,10,10])\n",
        "\n",
        "enlargedLiver['mild']=fuzz.trimf(enlargedLiver.universe,[1,1,3])\n",
        "enlargedLiver['moderate']=fuzz.trimf(enlargedLiver.universe,[3,5,6])\n",
        "enlargedLiver['severe']=fuzz.trimf(enlargedLiver.universe,[6,8,8])\n",
        "enlargedLiver['very severe']=fuzz.trimf(enlargedLiver.universe,[8,10,10])\n",
        "\n",
        "jointPain['mild']=fuzz.trimf(jointPain.universe,[1,1,3])\n",
        "jointPain['moderate']=fuzz.trimf(jointPain.universe,[3,5,6])\n",
        "jointPain['severe']=fuzz.trimf(jointPain.universe,[6,8,8])\n",
        "jointPain['very severe']=fuzz.trimf(jointPain.universe,[8,10,10])\n",
        "\n",
        "bodyWeakness['mild']=fuzz.trimf(bodyWeakness.universe,[1,1,3])\n",
        "bodyWeakness['moderate']=fuzz.trimf(bodyWeakness.universe,[3,5,6])\n",
        "bodyWeakness['severe']=fuzz.trimf(bodyWeakness.universe,[6,8,8])\n",
        "bodyWeakness['very severe']=fuzz.trimf(bodyWeakness.universe,[8,10,10])\n",
        "\n",
        "dizziness['mild']=fuzz.trimf(dizziness.universe,[1,1,3])\n",
        "dizziness['moderate']=fuzz.trimf(dizziness.universe,[3,5,6])\n",
        "dizziness['severe']=fuzz.trimf(dizziness.universe,[6,8,8])\n",
        "dizziness['very severe']=fuzz.trimf(dizziness.universe,[8,10,10])\n",
        "\n",
        "lossOfAppetite['mild']=fuzz.trimf(lossOfAppetite.universe,[1,1,3])\n",
        "lossOfAppetite['moderate']=fuzz.trimf(lossOfAppetite.universe,[3,5,6])\n",
        "lossOfAppetite['severe']=fuzz.trimf(lossOfAppetite.universe,[6,8,8])\n",
        "lossOfAppetite['very severe']=fuzz.trimf(lossOfAppetite.universe,[8,10,10])\n",
        "\n",
        "MP['mild']=fuzz.trimf(MP.universe,[1,1,3])\n",
        "MP['moderate']=fuzz.trimf(MP.universe,[3,5,6])\n",
        "MP['severe']=fuzz.trimf(MP.universe,[6,8,8])\n",
        "MP['very severe']=fuzz.trimf(MP.universe,[8,10,10])\n",
        "\n",
        "conclusion['mild']=fuzz.trimf(conclusion.universe,[1,1,3])\n",
        "conclusion['moderate']=fuzz.trimf(conclusion.universe,[3,5,6])\n",
        "conclusion['severe']=fuzz.trimf(conclusion.universe,[6,8,8])\n",
        "conclusion['very severe']=fuzz.trimf(conclusion.universe,[8,10,10])\n",
        "\n",
        "\n",
        "rule1 = ctrl.Rule(fever['mild']&headache['mild']&nausea['mild']&vomiting['mild']&jaundice['mild']\n",
        "                  &enlargedLiver['mild']&jointPain['mild']&bodyWeakness['mild']&dizziness['severe']\n",
        "                  &lossOfAppetite['mild']&MP['mild'],conclusion['mild'])\n",
        "rule2 = ctrl.Rule(fever['moderate']&headache['mild']&nausea['mild']&vomiting['mild']&jaundice['mild']\n",
        "                  &enlargedLiver['mild']&jointPain['moderate']&bodyWeakness['moderate']&dizziness['severe']\n",
        "                  &lossOfAppetite['severe']&MP['moderate'],conclusion['moderate'])\n",
        "rule3 = ctrl.Rule(fever['severe']&headache['moderate']&nausea['mild']&vomiting['mild']&jaundice['mild']\n",
        "                  &enlargedLiver['mild']&jointPain['mild']&bodyWeakness['severe']&dizziness['severe']\n",
        "                  &lossOfAppetite['severe']&MP['moderate'],conclusion['severe'])\n",
        "rule4 = ctrl.Rule(fever['very severe']&headache['mild']&nausea['mild']&vomiting['mild']&jaundice['mild']\n",
        "                  &enlargedLiver['mild']&jointPain['severe']&bodyWeakness['severe']&dizziness['mild']\n",
        "                  &lossOfAppetite['mild']&MP['severe'],conclusion['very severe'])\n",
        "rule5 = ctrl.Rule(fever['moderate']&headache['mild']&nausea['mild']&vomiting['moderate']\n",
        "                  &jaundice['mild']&enlargedLiver['mild']&jointPain['moderate']&bodyWeakness['moderate']\n",
        "                  &dizziness['moderate']&lossOfAppetite['severe']&MP['moderate'],conclusion['moderate'])\n",
        "rule6 = ctrl.Rule(fever['mild']&headache['moderate']&nausea['moderate']&vomiting['mild']\n",
        "                  &jaundice['mild']&enlargedLiver['mild']&jointPain['mild']&bodyWeakness['mild']\n",
        "                  &dizziness['moderate']&lossOfAppetite['mild']&MP['mild'],conclusion['mild'])\n",
        "rule7 = ctrl.Rule(fever['mild']&headache['mild']&nausea['moderate']&vomiting['moderate']\n",
        "                  &jaundice['mild']&enlargedLiver['mild']&jointPain['severe']&bodyWeakness['severe']\n",
        "                  &dizziness['moderate']&lossOfAppetite['moderate']&MP['moderate'],conclusion['severe'])\n",
        "rule8 = ctrl.Rule(fever['moderate']&headache['moderate']&nausea['moderate']&vomiting['moderate']\n",
        "                  &jaundice['moderate']&enlargedLiver['moderate']&jointPain['moderate']&bodyWeakness['moderate']\n",
        "                  &dizziness['moderate']&lossOfAppetite['moderate']&MP['moderate'],conclusion['moderate'])\n",
        "rule9 = ctrl.Rule(fever['moderate']&headache['mild']&nausea['moderate']&vomiting['moderate']&jaundice['mild']\n",
        "                  &enlargedLiver['severe']&jointPain['moderate']&bodyWeakness['moderate']&dizziness['severe']\n",
        "                  &lossOfAppetite['moderate']&MP['moderate'],conclusion['moderate'])\n",
        "rule10 = ctrl.Rule(fever['mild']&headache['mild']&nausea['moderate']&vomiting['moderate']&jaundice['mild']\n",
        "                   &enlargedLiver['moderate']&jointPain['mild']&bodyWeakness['mild']&dizziness['mild']\n",
        "                   &lossOfAppetite['mild']&MP['mild'],conclusion['mild'])\n",
        "rule11 = ctrl.Rule(fever['severe']&headache['severe']&nausea['severe']&vomiting['severe']&jaundice['severe']\n",
        "                   &enlargedLiver['severe']&jointPain['severe']&bodyWeakness['very severe']\n",
        "                   &dizziness['severe']&lossOfAppetite['severe']&MP['moderate'],conclusion['very severe'])\n",
        "rule12 = ctrl.Rule(fever['moderate']&headache['severe']&nausea['moderate']&vomiting['severe']\n",
        "                   &jaundice['moderate']&enlargedLiver['severe']&jointPain['moderate']&bodyWeakness['severe']\n",
        "                   &dizziness['moderate']&lossOfAppetite['mild']&MP['moderate'],conclusion['severe'])\n",
        "rule13 = ctrl.Rule(fever['mild']&headache['moderate']&nausea['moderate']&vomiting['moderate']&jaundice['mild']\n",
        "                   &enlargedLiver['mild']&jointPain['mild']&bodyWeakness['moderate']&dizziness['mild']\n",
        "                   &lossOfAppetite['moderate']&MP['moderate'],conclusion['moderate'])\n",
        "rule14 = ctrl.Rule(fever['severe']&headache['severe']&nausea['moderate']&vomiting['severe']&jaundice['severe']\n",
        "                   &enlargedLiver['severe']&jointPain['severe']&bodyWeakness['severe']&dizziness['moderate']\n",
        "                   &lossOfAppetite['moderate']&MP['severe'],conclusion['severe'])\n",
        "rule15 = ctrl.Rule(fever['mild']&headache['mild']&nausea['mild']&vomiting['moderate']&jaundice['mild']\n",
        "                   &enlargedLiver['mild']&jointPain['mild']&bodyWeakness['severe']&dizziness['mild']\n",
        "                   &lossOfAppetite['severe']&MP['moderate'],conclusion['severe'])\n",
        "rule16 = ctrl.Rule(fever['very severe']&headache['moderate']&nausea['mild']&vomiting['moderate']\n",
        "                   &jaundice['severe']&enlargedLiver['moderate']&jointPain['mild']&bodyWeakness['very severe']\n",
        "                   &dizziness['severe']&lossOfAppetite['mild']&MP['moderate'],conclusion['very severe'])\n",
        "rule17 = ctrl.Rule(fever['mild']&headache['very severe']&nausea['moderate']&vomiting['moderate']\n",
        "                   &jaundice['mild']&enlargedLiver['moderate']&jointPain['mild']&bodyWeakness['moderate']\n",
        "                   &dizziness['very severe']&lossOfAppetite['mild']&MP['moderate'],conclusion['very severe'])\n",
        "rule18 = ctrl.Rule(fever['moderate']&headache['very severe']&nausea['very severe']&vomiting['mild']\n",
        "                   &jaundice['severe']&enlargedLiver['severe']&jointPain['moderate']&bodyWeakness['severe']\n",
        "                   &dizziness['very severe']&lossOfAppetite['very severe']&MP['severe'],conclusion['very severe'])\n",
        "rule19 = ctrl.Rule(fever['moderate']&headache['moderate']&nausea['moderate']&vomiting['moderate']&jaundice['mild']\n",
        "                   &enlargedLiver['mild']&jointPain['moderate']&bodyWeakness['moderate']&dizziness['moderate']\n",
        "                   &lossOfAppetite['moderate']&MP['moderate'],conclusion['moderate'])\n",
        "rule20 = ctrl.Rule(fever['very severe']&headache['severe']&nausea['severe']&vomiting['severe']\n",
        "                   &jaundice['severe']&enlargedLiver['severe']&jointPain['severe']&bodyWeakness['severe']\n",
        "                   &dizziness['severe']&lossOfAppetite['severe']&MP['moderate'],conclusion['very severe'])\n",
        "\n",
        "\n",
        "conclusion_ctrl=ctrl.ControlSystem([rule1,rule2, rule3,rule4,rule5,rule6,rule7,rule8,rule9,rule10,\n",
        "                                    rule11,rule12,rule13,rule13,rule14,rule15,rule16,rule17,rule18,\n",
        "                                    rule19,rule20])\n",
        "CtrlConclusion = ctrl.ControlSystemSimulation(conclusion_ctrl)\n",
        "CtrlConclusion.input['fever']= 5\n",
        "CtrlConclusion.input['headache']=2\n",
        "CtrlConclusion.input['nausea']=2\n",
        "CtrlConclusion.input['vomiting']=2\n",
        "CtrlConclusion.input['jaundice']=2\n",
        "CtrlConclusion.input['enlargedLiver']=2\n",
        "CtrlConclusion.input['jointPain']=5\n",
        "CtrlConclusion.input['bodyWeakness']=5\n",
        "CtrlConclusion.input['dizziness']=7\n",
        "CtrlConclusion.input['lossOfAppetite']=7\n",
        "CtrlConclusion.input['MP']=5\n",
        "CtrlConclusion.compute()\n",
        "print(CtrlConclusion.output['conclusion'])\n",
        "conclusion.view(sim=CtrlConclusion)\n"
      ],
      "metadata": {
        "colab": {
          "base_uri": "https://localhost:8080/",
          "height": 298
        },
        "id": "NA7Z_twgC4jZ",
        "outputId": "0011717d-8c0b-4f52-e467-14a5b1e0fe73"
      },
      "execution_count": 18,
      "outputs": [
        {
          "output_type": "stream",
          "name": "stdout",
          "text": [
            "4.611111111111111\n"
          ]
        },
        {
          "output_type": "display_data",
          "data": {
            "text/plain": [
              "<Figure size 432x288 with 1 Axes>"
            ],
            "image/png": "[encoded data removed]"
          },
          "metadata": {
            "needs_background": "light"
          }
        }
      ]
    },
    {
      "cell_type": "code",
      "source": [],
      "metadata": {
        "id": "WXIXlvK7eAT5"
      },
      "execution_count": null,
      "outputs": []
    }
  ]
}